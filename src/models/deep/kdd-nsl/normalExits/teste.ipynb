{
 "cells": [
  {
   "cell_type": "code",
   "execution_count": 1,
   "metadata": {},
   "outputs": [],
   "source": [
    "from lazylib import make, AlexNet, device, takeConfusionMatrix, takeRocCurve, now, register\n",
    "import torch"
   ]
  },
  {
   "cell_type": "code",
   "execution_count": 7,
   "metadata": {},
   "outputs": [
    {
     "name": "stderr",
     "output_type": "stream",
     "text": [
      "[09-06-2025 00-42-28] Epoch 001 Acc: 0.9738 Loss: 0.06974775: 100%|██████████| 782/782 [04:00<00:00,  3.25it/s]\n",
      "[09-06-2025 00-56-58] Epoch 001 Val. Acc: 0.9958 Val. Loss: 0.01996783: 100%|██████████| 7032/7032 [14:25<00:00,  8.12it/s] \n"
     ]
    },
    {
     "name": "stdout",
     "output_type": "stream",
     "text": [
      "Finished experiment!\n"
     ]
    }
   ],
   "source": [
    "n = now()\n",
    "epocs = 1\n",
    "model = make(\n",
    "    EPOCHS=epocs, \n",
    "    BATCH_SIZE=8192, \n",
    "    LEARNING_RATE=1e-3, \n",
    "    csv_path=\"/home/luizp/projects/pibit/src/data/processed/csv/cicClean.csv\", \n",
    "    MODEL=AlexNet(x=128).to('cpu'), \n",
    "    SEED=1701,\n",
    "    xcol=1,\n",
    "    out_path ='./'\n",
    ")"
   ]
  },
  {
   "cell_type": "code",
   "execution_count": null,
   "metadata": {},
   "outputs": [],
   "source": [
    "make(model=AlexNet(x=128).to('cpu'),\n",
    "    epocs= 1, \n",
    "    batch_size = 8192, \n",
    "    csv_path = \"/home/luizp/projects/pibit/src/data/processed/csv/cicClean.csv\"\n",
    ")"
   ]
  }
 ],
 "metadata": {
  "kernelspec": {
   "display_name": "venv",
   "language": "python",
   "name": "python3"
  },
  "language_info": {
   "codemirror_mode": {
    "name": "ipython",
    "version": 3
   },
   "file_extension": ".py",
   "mimetype": "text/x-python",
   "name": "python",
   "nbconvert_exporter": "python",
   "pygments_lexer": "ipython3",
   "version": "3.13.2"
  }
 },
 "nbformat": 4,
 "nbformat_minor": 2
}
