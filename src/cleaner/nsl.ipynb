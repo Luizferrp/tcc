{
 "cells": [
  {
   "cell_type": "code",
   "execution_count": 1,
   "id": "b0d754aa-47c8-4bf7-ace0-7c1a0f3eb340",
   "metadata": {},
   "outputs": [],
   "source": [
    "import pandas as pd\n",
    "from sklearn.preprocessing import MaxAbsScaler, LabelEncoder\n",
    "label_encoder = LabelEncoder()"
   ]
  },
  {
   "cell_type": "code",
   "execution_count": 4,
   "id": "d0d05537-df62-45fc-a2fe-ed46cc459175",
   "metadata": {},
   "outputs": [],
   "source": [
    "baredf = pd.read_csv(\"../data/nsl/KDDTrain+.txt\")"
   ]
  },
  {
   "cell_type": "code",
   "execution_count": 5,
   "id": "f6191956-b549-4b79-8dd3-13842696a386",
   "metadata": {},
   "outputs": [
    {
     "data": {
      "text/html": [
       "<div>\n",
       "<style scoped>\n",
       "    .dataframe tbody tr th:only-of-type {\n",
       "        vertical-align: middle;\n",
       "    }\n",
       "\n",
       "    .dataframe tbody tr th {\n",
       "        vertical-align: top;\n",
       "    }\n",
       "\n",
       "    .dataframe thead th {\n",
       "        text-align: right;\n",
       "    }\n",
       "</style>\n",
       "<table border=\"1\" class=\"dataframe\">\n",
       "  <thead>\n",
       "    <tr style=\"text-align: right;\">\n",
       "      <th></th>\n",
       "      <th>0</th>\n",
       "      <th>tcp</th>\n",
       "      <th>ftp_data</th>\n",
       "      <th>SF</th>\n",
       "      <th>491</th>\n",
       "      <th>0.1</th>\n",
       "      <th>0.2</th>\n",
       "      <th>0.3</th>\n",
       "      <th>0.4</th>\n",
       "      <th>0.5</th>\n",
       "      <th>...</th>\n",
       "      <th>0.17</th>\n",
       "      <th>0.03</th>\n",
       "      <th>0.17.1</th>\n",
       "      <th>0.00.6</th>\n",
       "      <th>0.00.7</th>\n",
       "      <th>0.00.8</th>\n",
       "      <th>0.05</th>\n",
       "      <th>0.00.9</th>\n",
       "      <th>normal</th>\n",
       "      <th>20</th>\n",
       "    </tr>\n",
       "  </thead>\n",
       "  <tbody>\n",
       "    <tr>\n",
       "      <th>125967</th>\n",
       "      <td>0</td>\n",
       "      <td>tcp</td>\n",
       "      <td>private</td>\n",
       "      <td>S0</td>\n",
       "      <td>0</td>\n",
       "      <td>0</td>\n",
       "      <td>0</td>\n",
       "      <td>0</td>\n",
       "      <td>0</td>\n",
       "      <td>0</td>\n",
       "      <td>...</td>\n",
       "      <td>0.10</td>\n",
       "      <td>0.06</td>\n",
       "      <td>0.00</td>\n",
       "      <td>0.0</td>\n",
       "      <td>1.00</td>\n",
       "      <td>1.0</td>\n",
       "      <td>0.00</td>\n",
       "      <td>0.0</td>\n",
       "      <td>neptune</td>\n",
       "      <td>20</td>\n",
       "    </tr>\n",
       "    <tr>\n",
       "      <th>125968</th>\n",
       "      <td>8</td>\n",
       "      <td>udp</td>\n",
       "      <td>private</td>\n",
       "      <td>SF</td>\n",
       "      <td>105</td>\n",
       "      <td>145</td>\n",
       "      <td>0</td>\n",
       "      <td>0</td>\n",
       "      <td>0</td>\n",
       "      <td>0</td>\n",
       "      <td>...</td>\n",
       "      <td>0.96</td>\n",
       "      <td>0.01</td>\n",
       "      <td>0.01</td>\n",
       "      <td>0.0</td>\n",
       "      <td>0.00</td>\n",
       "      <td>0.0</td>\n",
       "      <td>0.00</td>\n",
       "      <td>0.0</td>\n",
       "      <td>normal</td>\n",
       "      <td>21</td>\n",
       "    </tr>\n",
       "    <tr>\n",
       "      <th>125969</th>\n",
       "      <td>0</td>\n",
       "      <td>tcp</td>\n",
       "      <td>smtp</td>\n",
       "      <td>SF</td>\n",
       "      <td>2231</td>\n",
       "      <td>384</td>\n",
       "      <td>0</td>\n",
       "      <td>0</td>\n",
       "      <td>0</td>\n",
       "      <td>0</td>\n",
       "      <td>...</td>\n",
       "      <td>0.12</td>\n",
       "      <td>0.06</td>\n",
       "      <td>0.00</td>\n",
       "      <td>0.0</td>\n",
       "      <td>0.72</td>\n",
       "      <td>0.0</td>\n",
       "      <td>0.01</td>\n",
       "      <td>0.0</td>\n",
       "      <td>normal</td>\n",
       "      <td>18</td>\n",
       "    </tr>\n",
       "    <tr>\n",
       "      <th>125970</th>\n",
       "      <td>0</td>\n",
       "      <td>tcp</td>\n",
       "      <td>klogin</td>\n",
       "      <td>S0</td>\n",
       "      <td>0</td>\n",
       "      <td>0</td>\n",
       "      <td>0</td>\n",
       "      <td>0</td>\n",
       "      <td>0</td>\n",
       "      <td>0</td>\n",
       "      <td>...</td>\n",
       "      <td>0.03</td>\n",
       "      <td>0.05</td>\n",
       "      <td>0.00</td>\n",
       "      <td>0.0</td>\n",
       "      <td>1.00</td>\n",
       "      <td>1.0</td>\n",
       "      <td>0.00</td>\n",
       "      <td>0.0</td>\n",
       "      <td>neptune</td>\n",
       "      <td>20</td>\n",
       "    </tr>\n",
       "    <tr>\n",
       "      <th>125971</th>\n",
       "      <td>0</td>\n",
       "      <td>tcp</td>\n",
       "      <td>ftp_data</td>\n",
       "      <td>SF</td>\n",
       "      <td>151</td>\n",
       "      <td>0</td>\n",
       "      <td>0</td>\n",
       "      <td>0</td>\n",
       "      <td>0</td>\n",
       "      <td>0</td>\n",
       "      <td>...</td>\n",
       "      <td>0.30</td>\n",
       "      <td>0.03</td>\n",
       "      <td>0.30</td>\n",
       "      <td>0.0</td>\n",
       "      <td>0.00</td>\n",
       "      <td>0.0</td>\n",
       "      <td>0.00</td>\n",
       "      <td>0.0</td>\n",
       "      <td>normal</td>\n",
       "      <td>21</td>\n",
       "    </tr>\n",
       "  </tbody>\n",
       "</table>\n",
       "<p>5 rows × 43 columns</p>\n",
       "</div>"
      ],
      "text/plain": [
       "        0  tcp  ftp_data  SF   491  0.1  0.2  0.3  0.4  0.5  ...  0.17  0.03  \\\n",
       "125967  0  tcp   private  S0     0    0    0    0    0    0  ...  0.10  0.06   \n",
       "125968  8  udp   private  SF   105  145    0    0    0    0  ...  0.96  0.01   \n",
       "125969  0  tcp      smtp  SF  2231  384    0    0    0    0  ...  0.12  0.06   \n",
       "125970  0  tcp    klogin  S0     0    0    0    0    0    0  ...  0.03  0.05   \n",
       "125971  0  tcp  ftp_data  SF   151    0    0    0    0    0  ...  0.30  0.03   \n",
       "\n",
       "        0.17.1  0.00.6  0.00.7  0.00.8  0.05  0.00.9   normal  20  \n",
       "125967    0.00     0.0    1.00     1.0  0.00     0.0  neptune  20  \n",
       "125968    0.01     0.0    0.00     0.0  0.00     0.0   normal  21  \n",
       "125969    0.00     0.0    0.72     0.0  0.01     0.0   normal  18  \n",
       "125970    0.00     0.0    1.00     1.0  0.00     0.0  neptune  20  \n",
       "125971    0.30     0.0    0.00     0.0  0.00     0.0   normal  21  \n",
       "\n",
       "[5 rows x 43 columns]"
      ]
     },
     "execution_count": 5,
     "metadata": {},
     "output_type": "execute_result"
    }
   ],
   "source": [
    "baredf.tail(5)"
   ]
  },
  {
   "cell_type": "code",
   "execution_count": 6,
   "id": "7ecf6620-2242-4598-b997-89cf71b6e0e9",
   "metadata": {},
   "outputs": [
    {
     "data": {
      "text/plain": [
       "(125972, 43)"
      ]
     },
     "execution_count": 6,
     "metadata": {},
     "output_type": "execute_result"
    }
   ],
   "source": [
    "baredf.shape"
   ]
  },
  {
   "cell_type": "code",
   "execution_count": 7,
   "id": "2e663da8-735e-4ead-a39d-068c95ea3d15",
   "metadata": {},
   "outputs": [
    {
     "data": {
      "text/plain": [
       "0             int64\n",
       "tcp          object\n",
       "ftp_data     object\n",
       "SF           object\n",
       "491           int64\n",
       "0.1           int64\n",
       "0.2           int64\n",
       "0.3           int64\n",
       "0.4           int64\n",
       "0.5           int64\n",
       "0.6           int64\n",
       "0.7           int64\n",
       "0.8           int64\n",
       "0.9           int64\n",
       "0.10          int64\n",
       "0.11          int64\n",
       "0.12          int64\n",
       "0.13          int64\n",
       "0.14          int64\n",
       "0.15          int64\n",
       "0.16          int64\n",
       "0.18          int64\n",
       "2             int64\n",
       "2.1           int64\n",
       "0.00        float64\n",
       "0.00.1      float64\n",
       "0.00.2      float64\n",
       "0.00.3      float64\n",
       "1.00        float64\n",
       "0.00.4      float64\n",
       "0.00.5      float64\n",
       "150           int64\n",
       "25            int64\n",
       "0.17        float64\n",
       "0.03        float64\n",
       "0.17.1      float64\n",
       "0.00.6      float64\n",
       "0.00.7      float64\n",
       "0.00.8      float64\n",
       "0.05        float64\n",
       "0.00.9      float64\n",
       "normal       object\n",
       "20            int64\n",
       "dtype: object"
      ]
     },
     "execution_count": 7,
     "metadata": {},
     "output_type": "execute_result"
    }
   ],
   "source": [
    "baredf.dtypes"
   ]
  },
  {
   "cell_type": "code",
   "execution_count": 8,
   "id": "3c9454d1-d4cc-4bd6-abc0-8b71f887492d",
   "metadata": {},
   "outputs": [
    {
     "name": "stdout",
     "output_type": "stream",
     "text": [
      "tcp: uniqs: tcp\n",
      "tcp     102688\n",
      "udp      14993\n",
      "icmp      8291\n",
      "Name: count, dtype: int64 \n",
      "ftp_data: uniqs: ftp_data\n",
      "http         40338\n",
      "private      21853\n",
      "domain_u      9043\n",
      "smtp          7313\n",
      "ftp_data      6859\n",
      "             ...  \n",
      "tftp_u           3\n",
      "http_8001        2\n",
      "aol              2\n",
      "harvest          2\n",
      "http_2784        1\n",
      "Name: count, Length: 70, dtype: int64 \n",
      "SF: uniqs: SF\n",
      "SF        74944\n",
      "S0        34851\n",
      "REJ       11233\n",
      "RSTR       2421\n",
      "RSTO       1562\n",
      "S1          365\n",
      "SH          271\n",
      "S2          127\n",
      "RSTOS0      103\n",
      "S3           49\n",
      "OTH          46\n",
      "Name: count, dtype: int64 \n",
      "normal: uniqs: normal\n",
      "normal             67342\n",
      "neptune            41214\n",
      "satan               3633\n",
      "ipsweep             3599\n",
      "portsweep           2931\n",
      "smurf               2646\n",
      "nmap                1493\n",
      "back                 956\n",
      "teardrop             892\n",
      "warezclient          890\n",
      "pod                  201\n",
      "guess_passwd          53\n",
      "buffer_overflow       30\n",
      "warezmaster           20\n",
      "land                  18\n",
      "imap                  11\n",
      "rootkit               10\n",
      "loadmodule             9\n",
      "ftp_write              8\n",
      "multihop               7\n",
      "phf                    4\n",
      "perl                   3\n",
      "spy                    2\n",
      "Name: count, dtype: int64 \n"
     ]
    }
   ],
   "source": [
    "for col in baredf.columns:\n",
    "    if baredf[col].dtype == \"object\":\n",
    "        print(f'{col}: uniqs: {baredf[col].value_counts()} ')"
   ]
  },
  {
   "cell_type": "code",
   "execution_count": 9,
   "id": "92e33a74-7c59-4f46-9b89-3360e5060454",
   "metadata": {},
   "outputs": [],
   "source": [
    "baredf.normal = baredf.apply( lambda x: 0 if x.normal == 'normal' else 1, axis=1)"
   ]
  },
  {
   "cell_type": "code",
   "execution_count": 10,
   "id": "40799e77-ed74-49c9-9978-5156e148ce2f",
   "metadata": {},
   "outputs": [],
   "source": [
    "baredf['tcp'] = label_encoder.fit_transform(baredf['tcp'])\n",
    "baredf['SF'] = label_encoder.fit_transform(baredf['SF'])\n",
    "baredf['ftp_data'] = label_encoder.fit_transform(baredf['ftp_data'])"
   ]
  },
  {
   "cell_type": "code",
   "execution_count": 11,
   "id": "1332722d-0c9b-48b2-a952-2cb0fdf2f258",
   "metadata": {},
   "outputs": [],
   "source": [
    "baredf = pd.DataFrame(MaxAbsScaler().fit_transform(baredf))"
   ]
  },
  {
   "cell_type": "code",
   "execution_count": 12,
   "id": "ceb0d161",
   "metadata": {},
   "outputs": [],
   "source": [
    "ben = baredf[baredf[41] == 0]\n",
    "att = baredf[baredf[41] != 0]"
   ]
  },
  {
   "cell_type": "code",
   "execution_count": 13,
   "id": "af3a0461",
   "metadata": {},
   "outputs": [
    {
     "data": {
      "text/plain": [
       "(67342, 43)"
      ]
     },
     "execution_count": 13,
     "metadata": {},
     "output_type": "execute_result"
    }
   ],
   "source": [
    "ben.shape"
   ]
  },
  {
   "cell_type": "code",
   "execution_count": 14,
   "id": "93fd5a31",
   "metadata": {},
   "outputs": [
    {
     "data": {
      "text/plain": [
       "(58630, 43)"
      ]
     },
     "execution_count": 14,
     "metadata": {},
     "output_type": "execute_result"
    }
   ],
   "source": [
    "att.shape"
   ]
  },
  {
   "cell_type": "code",
   "execution_count": 15,
   "id": "7140094f",
   "metadata": {},
   "outputs": [
    {
     "data": {
      "text/plain": [
       "(50000, 43)"
      ]
     },
     "execution_count": 15,
     "metadata": {},
     "output_type": "execute_result"
    }
   ],
   "source": [
    "ben = ben.iloc[:50000, :]\n",
    "ben.shape"
   ]
  },
  {
   "cell_type": "code",
   "execution_count": 16,
   "id": "f9c952f3",
   "metadata": {},
   "outputs": [
    {
     "data": {
      "text/plain": [
       "(50000, 43)"
      ]
     },
     "execution_count": 16,
     "metadata": {},
     "output_type": "execute_result"
    }
   ],
   "source": [
    "att = att.iloc[:50000, :]\n",
    "att.shape"
   ]
  },
  {
   "cell_type": "code",
   "execution_count": 22,
   "id": "0c1d6b7a",
   "metadata": {},
   "outputs": [
    {
     "data": {
      "text/plain": [
       "(125972, 43)"
      ]
     },
     "execution_count": 22,
     "metadata": {},
     "output_type": "execute_result"
    }
   ],
   "source": [
    "baredf.shape"
   ]
  },
  {
   "cell_type": "code",
   "execution_count": 23,
   "id": "e9b02bd2",
   "metadata": {},
   "outputs": [],
   "source": [
    "baredf = pd.concat([att, ben])"
   ]
  },
  {
   "cell_type": "code",
   "execution_count": 24,
   "id": "3a404d8f",
   "metadata": {},
   "outputs": [
    {
     "data": {
      "text/plain": [
       "(100000, 43)"
      ]
     },
     "execution_count": 24,
     "metadata": {},
     "output_type": "execute_result"
    }
   ],
   "source": [
    "baredf.shape"
   ]
  },
  {
   "cell_type": "code",
   "execution_count": 17,
   "id": "1109d9e0-0911-42f1-949b-defe4b779099",
   "metadata": {},
   "outputs": [
    {
     "data": {
      "text/html": [
       "<div>\n",
       "<style scoped>\n",
       "    .dataframe tbody tr th:only-of-type {\n",
       "        vertical-align: middle;\n",
       "    }\n",
       "\n",
       "    .dataframe tbody tr th {\n",
       "        vertical-align: top;\n",
       "    }\n",
       "\n",
       "    .dataframe thead th {\n",
       "        text-align: right;\n",
       "    }\n",
       "</style>\n",
       "<table border=\"1\" class=\"dataframe\">\n",
       "  <thead>\n",
       "    <tr style=\"text-align: right;\">\n",
       "      <th></th>\n",
       "      <th>0</th>\n",
       "      <th>1</th>\n",
       "      <th>2</th>\n",
       "      <th>3</th>\n",
       "      <th>4</th>\n",
       "      <th>5</th>\n",
       "      <th>6</th>\n",
       "      <th>7</th>\n",
       "      <th>8</th>\n",
       "      <th>9</th>\n",
       "      <th>...</th>\n",
       "      <th>33</th>\n",
       "      <th>34</th>\n",
       "      <th>35</th>\n",
       "      <th>36</th>\n",
       "      <th>37</th>\n",
       "      <th>38</th>\n",
       "      <th>39</th>\n",
       "      <th>40</th>\n",
       "      <th>41</th>\n",
       "      <th>42</th>\n",
       "    </tr>\n",
       "  </thead>\n",
       "  <tbody>\n",
       "    <tr>\n",
       "      <th>125967</th>\n",
       "      <td>0.000000</td>\n",
       "      <td>0.5</td>\n",
       "      <td>0.710145</td>\n",
       "      <td>0.5</td>\n",
       "      <td>0.000000e+00</td>\n",
       "      <td>0.000000e+00</td>\n",
       "      <td>0.0</td>\n",
       "      <td>0.0</td>\n",
       "      <td>0.0</td>\n",
       "      <td>0.0</td>\n",
       "      <td>...</td>\n",
       "      <td>0.10</td>\n",
       "      <td>0.06</td>\n",
       "      <td>0.00</td>\n",
       "      <td>0.0</td>\n",
       "      <td>1.00</td>\n",
       "      <td>1.0</td>\n",
       "      <td>0.00</td>\n",
       "      <td>0.0</td>\n",
       "      <td>1.0</td>\n",
       "      <td>0.952381</td>\n",
       "    </tr>\n",
       "    <tr>\n",
       "      <th>125968</th>\n",
       "      <td>0.000186</td>\n",
       "      <td>1.0</td>\n",
       "      <td>0.710145</td>\n",
       "      <td>0.9</td>\n",
       "      <td>7.608895e-08</td>\n",
       "      <td>1.106923e-07</td>\n",
       "      <td>0.0</td>\n",
       "      <td>0.0</td>\n",
       "      <td>0.0</td>\n",
       "      <td>0.0</td>\n",
       "      <td>...</td>\n",
       "      <td>0.96</td>\n",
       "      <td>0.01</td>\n",
       "      <td>0.01</td>\n",
       "      <td>0.0</td>\n",
       "      <td>0.00</td>\n",
       "      <td>0.0</td>\n",
       "      <td>0.00</td>\n",
       "      <td>0.0</td>\n",
       "      <td>0.0</td>\n",
       "      <td>1.000000</td>\n",
       "    </tr>\n",
       "    <tr>\n",
       "      <th>125969</th>\n",
       "      <td>0.000000</td>\n",
       "      <td>0.5</td>\n",
       "      <td>0.782609</td>\n",
       "      <td>0.9</td>\n",
       "      <td>1.616709e-06</td>\n",
       "      <td>2.931438e-07</td>\n",
       "      <td>0.0</td>\n",
       "      <td>0.0</td>\n",
       "      <td>0.0</td>\n",
       "      <td>0.0</td>\n",
       "      <td>...</td>\n",
       "      <td>0.12</td>\n",
       "      <td>0.06</td>\n",
       "      <td>0.00</td>\n",
       "      <td>0.0</td>\n",
       "      <td>0.72</td>\n",
       "      <td>0.0</td>\n",
       "      <td>0.01</td>\n",
       "      <td>0.0</td>\n",
       "      <td>0.0</td>\n",
       "      <td>0.857143</td>\n",
       "    </tr>\n",
       "    <tr>\n",
       "      <th>125970</th>\n",
       "      <td>0.000000</td>\n",
       "      <td>0.5</td>\n",
       "      <td>0.434783</td>\n",
       "      <td>0.5</td>\n",
       "      <td>0.000000e+00</td>\n",
       "      <td>0.000000e+00</td>\n",
       "      <td>0.0</td>\n",
       "      <td>0.0</td>\n",
       "      <td>0.0</td>\n",
       "      <td>0.0</td>\n",
       "      <td>...</td>\n",
       "      <td>0.03</td>\n",
       "      <td>0.05</td>\n",
       "      <td>0.00</td>\n",
       "      <td>0.0</td>\n",
       "      <td>1.00</td>\n",
       "      <td>1.0</td>\n",
       "      <td>0.00</td>\n",
       "      <td>0.0</td>\n",
       "      <td>1.0</td>\n",
       "      <td>0.952381</td>\n",
       "    </tr>\n",
       "    <tr>\n",
       "      <th>125971</th>\n",
       "      <td>0.000000</td>\n",
       "      <td>0.5</td>\n",
       "      <td>0.289855</td>\n",
       "      <td>0.9</td>\n",
       "      <td>1.094232e-07</td>\n",
       "      <td>0.000000e+00</td>\n",
       "      <td>0.0</td>\n",
       "      <td>0.0</td>\n",
       "      <td>0.0</td>\n",
       "      <td>0.0</td>\n",
       "      <td>...</td>\n",
       "      <td>0.30</td>\n",
       "      <td>0.03</td>\n",
       "      <td>0.30</td>\n",
       "      <td>0.0</td>\n",
       "      <td>0.00</td>\n",
       "      <td>0.0</td>\n",
       "      <td>0.00</td>\n",
       "      <td>0.0</td>\n",
       "      <td>0.0</td>\n",
       "      <td>1.000000</td>\n",
       "    </tr>\n",
       "  </tbody>\n",
       "</table>\n",
       "<p>5 rows × 43 columns</p>\n",
       "</div>"
      ],
      "text/plain": [
       "              0    1         2    3             4             5    6    7   \\\n",
       "125967  0.000000  0.5  0.710145  0.5  0.000000e+00  0.000000e+00  0.0  0.0   \n",
       "125968  0.000186  1.0  0.710145  0.9  7.608895e-08  1.106923e-07  0.0  0.0   \n",
       "125969  0.000000  0.5  0.782609  0.9  1.616709e-06  2.931438e-07  0.0  0.0   \n",
       "125970  0.000000  0.5  0.434783  0.5  0.000000e+00  0.000000e+00  0.0  0.0   \n",
       "125971  0.000000  0.5  0.289855  0.9  1.094232e-07  0.000000e+00  0.0  0.0   \n",
       "\n",
       "         8    9   ...    33    34    35   36    37   38    39   40   41  \\\n",
       "125967  0.0  0.0  ...  0.10  0.06  0.00  0.0  1.00  1.0  0.00  0.0  1.0   \n",
       "125968  0.0  0.0  ...  0.96  0.01  0.01  0.0  0.00  0.0  0.00  0.0  0.0   \n",
       "125969  0.0  0.0  ...  0.12  0.06  0.00  0.0  0.72  0.0  0.01  0.0  0.0   \n",
       "125970  0.0  0.0  ...  0.03  0.05  0.00  0.0  1.00  1.0  0.00  0.0  1.0   \n",
       "125971  0.0  0.0  ...  0.30  0.03  0.30  0.0  0.00  0.0  0.00  0.0  0.0   \n",
       "\n",
       "              42  \n",
       "125967  0.952381  \n",
       "125968  1.000000  \n",
       "125969  0.857143  \n",
       "125970  0.952381  \n",
       "125971  1.000000  \n",
       "\n",
       "[5 rows x 43 columns]"
      ]
     },
     "execution_count": 17,
     "metadata": {},
     "output_type": "execute_result"
    }
   ],
   "source": [
    "baredf.tail(5)"
   ]
  },
  {
   "cell_type": "code",
   "execution_count": 25,
   "id": "28c90964-1767-47c1-b892-b9c036db0c61",
   "metadata": {},
   "outputs": [],
   "source": [
    "x=baredf.iloc[:,:-2]\n",
    "y=baredf[41]"
   ]
  },
  {
   "cell_type": "code",
   "execution_count": 26,
   "id": "dd815dd1-0163-45a2-a84e-a3871c2c172c",
   "metadata": {},
   "outputs": [],
   "source": [
    "import pandas as pd\n",
    "import numpy as np\n",
    "import seaborn as sns\n",
    "import matplotlib.pyplot as plt\n",
    "from sklearn.preprocessing import MaxAbsScaler\n",
    "from sklearn.model_selection import train_test_split\n",
    "from sklearn.neighbors import KNeighborsClassifier\n",
    "from sklearn.metrics import auc, roc_curve, accuracy_score, confusion_matrix, ConfusionMatrixDisplay\n",
    "from sklearn.ensemble import ExtraTreesClassifier, RandomForestClassifier\n",
    "from sklearn.tree import DecisionTreeClassifier\n",
    "from sklearn.model_selection import train_test_split \n",
    "from sklearn.model_selection import train_test_split\n",
    "from sklearn.preprocessing import LabelEncoder\n",
    "from sklearn.manifold import TSNE"
   ]
  },
  {
   "cell_type": "code",
   "execution_count": 27,
   "id": "f90e57af-d22e-4e84-a26f-478e3cb94767",
   "metadata": {},
   "outputs": [],
   "source": [
    "treinoX, testeX, treinoY, testey = train_test_split(x, y, train_size=0.7, random_state=42)"
   ]
  },
  {
   "cell_type": "code",
   "execution_count": 28,
   "id": "f7a7e0a6-5f2a-4f9f-92b5-003a337d19ef",
   "metadata": {},
   "outputs": [
    {
     "data": {
      "text/plain": [
       "0.9965333333333334"
      ]
     },
     "execution_count": 28,
     "metadata": {},
     "output_type": "execute_result"
    }
   ],
   "source": [
    "dt = DecisionTreeClassifier(min_samples_split=10)\n",
    "dt.fit(treinoX, treinoY)\n",
    "dtPred = dt.predict(testeX)\n",
    "accuracy_score(testey, dtPred)"
   ]
  },
  {
   "cell_type": "code",
   "execution_count": 29,
   "id": "1edb2f82-24e8-4f01-b758-9b5f3063dded",
   "metadata": {},
   "outputs": [
    {
     "data": {
      "text/plain": [
       "<sklearn.metrics._plot.confusion_matrix.ConfusionMatrixDisplay at 0x7f86c2119ed0>"
      ]
     },
     "execution_count": 29,
     "metadata": {},
     "output_type": "execute_result"
    },
    {
     "data": {
      "image/png": "[encoded data removed]",
      "text/plain": [
       "<Figure size 640x480 with 2 Axes>"
      ]
     },
     "metadata": {},
     "output_type": "display_data"
    }
   ],
   "source": [
    "dtmc = confusion_matrix(testey, dtPred)\n",
    "ConfusionMatrixDisplay(dtmc, display_labels=['positivo', 'negativo']).plot()"
   ]
  },
  {
   "cell_type": "code",
   "execution_count": 18,
   "id": "e0db3a86-3f6c-41e5-a05e-6da549a98a28",
   "metadata": {},
   "outputs": [],
   "source": [
    "baredf.to_csv('nslClean.csv', index=False)"
   ]
  },
  {
   "cell_type": "code",
   "execution_count": null,
   "id": "941ea85b-e27f-4a77-93f4-71246e2dee06",
   "metadata": {},
   "outputs": [],
   "source": []
  }
 ],
 "metadata": {
  "kernelspec": {
   "display_name": "Python 3 (ipykernel)",
   "language": "python",
   "name": "python3"
  },
  "language_info": {
   "codemirror_mode": {
    "name": "ipython",
    "version": 3
   },
   "file_extension": ".py",
   "mimetype": "text/x-python",
   "name": "python",
   "nbconvert_exporter": "python",
   "pygments_lexer": "ipython3",
   "version": "3.11.7"
  }
 },
 "nbformat": 4,
 "nbformat_minor": 5
}
