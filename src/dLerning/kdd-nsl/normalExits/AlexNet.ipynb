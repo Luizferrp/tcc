{
 "cells": [
  {
   "cell_type": "code",
   "execution_count": 1,
   "metadata": {},
   "outputs": [
    {
     "name": "stderr",
     "output_type": "stream",
     "text": [
      "/home/luizp/projects/pibit/pibit/lib64/python3.11/site-packages/tqdm/auto.py:21: TqdmWarning: IProgress not found. Please update jupyter and ipywidgets. See https://ipywidgets.readthedocs.io/en/stable/user_install.html\n",
      "  from .autonotebook import tqdm as notebook_tqdm\n"
     ]
    }
   ],
   "source": [
    "from lazylib import make, AlexNet, device, takeConfusionMatrix, takeRocCurve, now, register\n",
    "import torch"
   ]
  },
  {
   "cell_type": "code",
   "execution_count": 3,
   "metadata": {},
   "outputs": [
    {
     "name": "stderr",
     "output_type": "stream",
     "text": [
      "[14-02-2024 12-43-34] Epoch 001 Acc: 0.9162 Loss: 0.20980109: 100%|██████████| 99/99 [00:02<00:00, 39.99it/s]\n",
      "[14-02-2024 12-43-42] Epoch 001 Val. Acc: 0.9648 Val. Loss: 0.10638733: 100%|██████████| 886/886 [00:07<00:00, 119.97it/s]\n"
     ]
    },
    {
     "name": "stdout",
     "output_type": "stream",
     "text": [
      "[59800  3141   850 49583]\n"
     ]
    },
    {
     "name": "stderr",
     "output_type": "stream",
     "text": [
      "[14-02-2024 12-43-44] Epoch 002 Acc: 0.9635 Loss: 0.10761537: 100%|██████████| 99/99 [00:01<00:00, 50.06it/s]\n",
      "[14-02-2024 12-43-52] Epoch 002 Val. Acc: 0.9703 Val. Loss: 0.08905413: 100%|██████████| 886/886 [00:07<00:00, 115.12it/s]\n"
     ]
    },
    {
     "name": "stdout",
     "output_type": "stream",
     "text": [
      "[60099  2811   551 49913]\n"
     ]
    },
    {
     "name": "stderr",
     "output_type": "stream",
     "text": [
      "[14-02-2024 12-43-54] Epoch 003 Acc: 0.9695 Loss: 0.08861536: 100%|██████████| 99/99 [00:01<00:00, 49.54it/s]\n",
      "[14-02-2024 12-44-01] Epoch 003 Val. Acc: 0.9662 Val. Loss: 0.11586446: 100%|██████████| 886/886 [00:06<00:00, 126.69it/s]\n"
     ]
    },
    {
     "name": "stdout",
     "output_type": "stream",
     "text": [
      "[59525  2710  1125 50014]\n"
     ]
    },
    {
     "name": "stderr",
     "output_type": "stream",
     "text": [
      "[14-02-2024 12-44-04] Epoch 004 Acc: 0.9721 Loss: 0.07940753: 100%|██████████| 99/99 [00:02<00:00, 48.62it/s]\n",
      "[14-02-2024 12-44-13] Epoch 004 Val. Acc: 0.9709 Val. Loss: 0.07830031: 100%|██████████| 886/886 [00:08<00:00, 100.46it/s]\n"
     ]
    },
    {
     "name": "stdout",
     "output_type": "stream",
     "text": [
      "[60329  2974   321 49750]\n"
     ]
    },
    {
     "name": "stderr",
     "output_type": "stream",
     "text": [
      "[14-02-2024 12-44-16] Epoch 005 Acc: 0.9736 Loss: 0.07439931: 100%|██████████| 99/99 [00:02<00:00, 42.83it/s]\n",
      "[14-02-2024 12-44-26] Epoch 005 Val. Acc: 0.9741 Val. Loss: 0.07214568: 100%|██████████| 886/886 [00:09<00:00, 90.40it/s]\n"
     ]
    },
    {
     "name": "stdout",
     "output_type": "stream",
     "text": [
      "[59928  2209   722 50515]\n"
     ]
    },
    {
     "name": "stderr",
     "output_type": "stream",
     "text": [
      "[14-02-2024 12-44-29] Epoch 006 Acc: 0.9703 Loss: 0.07919049: 100%|██████████| 99/99 [00:02<00:00, 44.52it/s]\n",
      "[14-02-2024 12-44-39] Epoch 006 Val. Acc: 0.9680 Val. Loss: 0.07996364: 100%|██████████| 886/886 [00:09<00:00, 91.69it/s]\n"
     ]
    },
    {
     "name": "stdout",
     "output_type": "stream",
     "text": [
      "[60517  3497   133 49227]\n"
     ]
    },
    {
     "name": "stderr",
     "output_type": "stream",
     "text": [
      "[14-02-2024 12-44-41] Epoch 007 Acc: 0.9733 Loss: 0.06663614: 100%|██████████| 99/99 [00:02<00:00, 44.94it/s]\n",
      "[14-02-2024 12-44-51] Epoch 007 Val. Acc: 0.9746 Val. Loss: 0.07826593: 100%|██████████| 886/886 [00:09<00:00, 91.02it/s]\n"
     ]
    },
    {
     "name": "stdout",
     "output_type": "stream",
     "text": [
      "[60361  2586   289 50138]\n"
     ]
    },
    {
     "name": "stderr",
     "output_type": "stream",
     "text": [
      "[14-02-2024 12-44-54] Epoch 008 Acc: 0.9767 Loss: 0.06542387: 100%|██████████| 99/99 [00:02<00:00, 43.64it/s]\n",
      "[14-02-2024 12-45-04] Epoch 008 Val. Acc: 0.9748 Val. Loss: 0.06822169: 100%|██████████| 886/886 [00:09<00:00, 90.91it/s]\n"
     ]
    },
    {
     "name": "stdout",
     "output_type": "stream",
     "text": [
      "[60078  2289   572 50435]\n"
     ]
    },
    {
     "name": "stderr",
     "output_type": "stream",
     "text": [
      "[14-02-2024 12-45-07] Epoch 009 Acc: 0.9783 Loss: 0.05918635: 100%|██████████| 99/99 [00:02<00:00, 43.91it/s]\n",
      "[14-02-2024 12-45-17] Epoch 009 Val. Acc: 0.9769 Val. Loss: 0.06853064: 100%|██████████| 886/886 [00:09<00:00, 89.38it/s]\n"
     ]
    },
    {
     "name": "stdout",
     "output_type": "stream",
     "text": [
      "[60022  1990   628 50734]\n"
     ]
    },
    {
     "name": "stderr",
     "output_type": "stream",
     "text": [
      "[14-02-2024 12-45-20] Epoch 010 Acc: 0.9785 Loss: 0.05749660: 100%|██████████| 99/99 [00:02<00:00, 42.34it/s]\n",
      "[14-02-2024 12-45-30] Epoch 010 Val. Acc: 0.9791 Val. Loss: 0.05609321: 100%|██████████| 886/886 [00:09<00:00, 93.77it/s] \n"
     ]
    },
    {
     "name": "stdout",
     "output_type": "stream",
     "text": [
      "[59715  1431   935 51293]\n"
     ]
    },
    {
     "name": "stderr",
     "output_type": "stream",
     "text": [
      "[14-02-2024 12-45-33] Epoch 011 Acc: 0.9811 Loss: 0.05174607: 100%|██████████| 99/99 [00:02<00:00, 44.07it/s]\n",
      "[14-02-2024 12-45-43] Epoch 011 Val. Acc: 0.9829 Val. Loss: 0.05745694: 100%|██████████| 886/886 [00:09<00:00, 95.77it/s] \n"
     ]
    },
    {
     "name": "stdout",
     "output_type": "stream",
     "text": [
      "[59614   903  1036 51821]\n"
     ]
    },
    {
     "name": "stderr",
     "output_type": "stream",
     "text": [
      "[14-02-2024 12-45-45] Epoch 012 Acc: 0.9800 Loss: 0.05362428: 100%|██████████| 99/99 [00:02<00:00, 42.55it/s]\n",
      "[14-02-2024 12-45-55] Epoch 012 Val. Acc: 0.9807 Val. Loss: 0.06266967: 100%|██████████| 886/886 [00:09<00:00, 95.24it/s] \n"
     ]
    },
    {
     "name": "stdout",
     "output_type": "stream",
     "text": [
      "[59435   969  1215 51755]\n"
     ]
    },
    {
     "name": "stderr",
     "output_type": "stream",
     "text": [
      "[14-02-2024 12-45-58] Epoch 013 Acc: 0.9824 Loss: 0.04604477: 100%|██████████| 99/99 [00:02<00:00, 43.66it/s]\n",
      "[14-02-2024 12-46-08] Epoch 013 Val. Acc: 0.9804 Val. Loss: 0.05388200: 100%|██████████| 886/886 [00:10<00:00, 87.49it/s] \n"
     ]
    },
    {
     "name": "stdout",
     "output_type": "stream",
     "text": [
      "[58985   559  1665 52165]\n"
     ]
    },
    {
     "name": "stderr",
     "output_type": "stream",
     "text": [
      "[14-02-2024 12-46-11] Epoch 014 Acc: 0.9806 Loss: 0.04972337: 100%|██████████| 99/99 [00:02<00:00, 39.29it/s]\n",
      "[14-02-2024 12-46-22] Epoch 014 Val. Acc: 0.9808 Val. Loss: 0.05683873: 100%|██████████| 886/886 [00:09<00:00, 89.21it/s]\n"
     ]
    },
    {
     "name": "stdout",
     "output_type": "stream",
     "text": [
      "[59415   937  1235 51787]\n"
     ]
    },
    {
     "name": "stderr",
     "output_type": "stream",
     "text": [
      "[14-02-2024 12-46-25] Epoch 015 Acc: 0.9834 Loss: 0.04511642: 100%|██████████| 99/99 [00:02<00:00, 41.28it/s]\n",
      "[14-02-2024 12-46-36] Epoch 015 Val. Acc: 0.9798 Val. Loss: 0.05543797: 100%|██████████| 886/886 [00:10<00:00, 82.93it/s]\n"
     ]
    },
    {
     "name": "stdout",
     "output_type": "stream",
     "text": [
      "[60013  1654   637 51070]\n"
     ]
    },
    {
     "name": "stderr",
     "output_type": "stream",
     "text": [
      "[14-02-2024 12-46-39] Epoch 016 Acc: 0.9826 Loss: 0.04351863: 100%|██████████| 99/99 [00:02<00:00, 42.78it/s]\n",
      "[14-02-2024 12-46-48] Epoch 016 Val. Acc: 0.9663 Val. Loss: 0.07778813: 100%|██████████| 886/886 [00:09<00:00, 91.51it/s]\n"
     ]
    },
    {
     "name": "stdout",
     "output_type": "stream",
     "text": [
      "[57362   530  3288 52194]\n"
     ]
    },
    {
     "name": "stderr",
     "output_type": "stream",
     "text": [
      "[14-02-2024 12-46-52] Epoch 017 Acc: 0.9821 Loss: 0.04630468: 100%|██████████| 99/99 [00:02<00:00, 40.63it/s]\n",
      "[14-02-2024 12-47-04] Epoch 017 Val. Acc: 0.9816 Val. Loss: 0.05406346: 100%|██████████| 886/886 [00:12<00:00, 70.97it/s]\n"
     ]
    },
    {
     "name": "stdout",
     "output_type": "stream",
     "text": [
      "[59665  1105   985 51619]\n"
     ]
    },
    {
     "name": "stderr",
     "output_type": "stream",
     "text": [
      "[14-02-2024 12-47-08] Epoch 018 Acc: 0.9826 Loss: 0.04568452: 100%|██████████| 99/99 [00:02<00:00, 37.95it/s]\n",
      "[14-02-2024 12-47-22] Epoch 018 Val. Acc: 0.9746 Val. Loss: 0.07455109: 100%|██████████| 886/886 [00:14<00:00, 61.84it/s]\n"
     ]
    },
    {
     "name": "stdout",
     "output_type": "stream",
     "text": [
      "[58044   278  2606 52446]\n"
     ]
    },
    {
     "name": "stderr",
     "output_type": "stream",
     "text": [
      "[14-02-2024 12-47-26] Epoch 019 Acc: 0.9862 Loss: 0.03591667: 100%|██████████| 99/99 [00:02<00:00, 36.46it/s]\n",
      "[14-02-2024 12-47-42] Epoch 019 Val. Acc: 0.9830 Val. Loss: 0.05256493: 100%|██████████| 886/886 [00:15<00:00, 56.41it/s]\n"
     ]
    },
    {
     "name": "stdout",
     "output_type": "stream",
     "text": [
      "[59747  1022   903 51702]\n"
     ]
    },
    {
     "name": "stderr",
     "output_type": "stream",
     "text": [
      "[14-02-2024 12-47-46] Epoch 020 Acc: 0.9821 Loss: 0.05068194: 100%|██████████| 99/99 [00:02<00:00, 34.52it/s]\n",
      "[14-02-2024 12-47-58] Epoch 020 Val. Acc: 0.9820 Val. Loss: 0.06293042: 100%|██████████| 886/886 [00:11<00:00, 76.66it/s]\n"
     ]
    },
    {
     "name": "stdout",
     "output_type": "stream",
     "text": [
      "[60268  1656   382 51068]\n"
     ]
    },
    {
     "name": "stderr",
     "output_type": "stream",
     "text": [
      "[14-02-2024 12-48-01] Epoch 021 Acc: 0.9856 Loss: 0.03903364: 100%|██████████| 99/99 [00:02<00:00, 41.48it/s]\n",
      "[14-02-2024 12-48-13] Epoch 021 Val. Acc: 0.9842 Val. Loss: 0.05161240: 100%|██████████| 886/886 [00:11<00:00, 74.44it/s]\n"
     ]
    },
    {
     "name": "stdout",
     "output_type": "stream",
     "text": [
      "[60107  1247   543 51477]\n"
     ]
    },
    {
     "name": "stderr",
     "output_type": "stream",
     "text": [
      "[14-02-2024 12-48-17] Epoch 022 Acc: 0.9867 Loss: 0.03581752: 100%|██████████| 99/99 [00:02<00:00, 33.43it/s]\n",
      "[14-02-2024 12-48-33] Epoch 022 Val. Acc: 0.9821 Val. Loss: 0.06400941: 100%|██████████| 886/886 [00:15<00:00, 58.16it/s]\n"
     ]
    },
    {
     "name": "stdout",
     "output_type": "stream",
     "text": [
      "[59636  1016  1014 51708]\n"
     ]
    },
    {
     "name": "stderr",
     "output_type": "stream",
     "text": [
      "[14-02-2024 12-48-36] Epoch 023 Acc: 0.9882 Loss: 0.03261836: 100%|██████████| 99/99 [00:02<00:00, 41.78it/s]\n",
      "[14-02-2024 12-48-47] Epoch 023 Val. Acc: 0.9844 Val. Loss: 0.05913575: 100%|██████████| 886/886 [00:10<00:00, 81.74it/s]\n"
     ]
    },
    {
     "name": "stdout",
     "output_type": "stream",
     "text": [
      "[59694   807   956 51917]\n"
     ]
    },
    {
     "name": "stderr",
     "output_type": "stream",
     "text": [
      "[14-02-2024 12-48-50] Epoch 024 Acc: 0.9876 Loss: 0.03654964: 100%|██████████| 99/99 [00:02<00:00, 40.85it/s]\n",
      "[14-02-2024 12-49-03] Epoch 024 Val. Acc: 0.9807 Val. Loss: 0.05570271: 100%|██████████| 886/886 [00:12<00:00, 69.98it/s]\n"
     ]
    },
    {
     "name": "stdout",
     "output_type": "stream",
     "text": [
      "[60369  1906   281 50818]\n"
     ]
    },
    {
     "name": "stderr",
     "output_type": "stream",
     "text": [
      "[14-02-2024 12-49-06] Epoch 025 Acc: 0.9879 Loss: 0.03089129: 100%|██████████| 99/99 [00:02<00:00, 42.03it/s]\n",
      "[14-02-2024 12-49-20] Epoch 025 Val. Acc: 0.9843 Val. Loss: 0.05724811: 100%|██████████| 886/886 [00:13<00:00, 64.83it/s]\n"
     ]
    },
    {
     "name": "stdout",
     "output_type": "stream",
     "text": [
      "[59913  1040   737 51684]\n"
     ]
    },
    {
     "name": "stderr",
     "output_type": "stream",
     "text": [
      "[14-02-2024 12-49-23] Epoch 026 Acc: 0.9856 Loss: 0.03574703: 100%|██████████| 99/99 [00:02<00:00, 41.43it/s]\n",
      "[14-02-2024 12-49-42] Epoch 026 Val. Acc: 0.9812 Val. Loss: 0.07711750: 100%|██████████| 886/886 [00:18<00:00, 48.81it/s]\n"
     ]
    },
    {
     "name": "stdout",
     "output_type": "stream",
     "text": [
      "[60209  1685   441 51039]\n"
     ]
    },
    {
     "name": "stderr",
     "output_type": "stream",
     "text": [
      "[14-02-2024 12-49-45] Epoch 027 Acc: 0.9860 Loss: 0.03542070: 100%|██████████| 99/99 [00:02<00:00, 41.13it/s]\n",
      "[14-02-2024 12-49-56] Epoch 027 Val. Acc: 0.9812 Val. Loss: 0.07111933: 100%|██████████| 886/886 [00:10<00:00, 82.07it/s]\n"
     ]
    },
    {
     "name": "stdout",
     "output_type": "stream",
     "text": [
      "[58974   455  1676 52269]\n"
     ]
    },
    {
     "name": "stderr",
     "output_type": "stream",
     "text": [
      "[14-02-2024 12-49-59] Epoch 028 Acc: 0.9856 Loss: 0.03468598: 100%|██████████| 99/99 [00:02<00:00, 42.20it/s]\n",
      "[14-02-2024 12-50-19] Epoch 028 Val. Acc: 0.9812 Val. Loss: 0.06388659: 100%|██████████| 886/886 [00:19<00:00, 45.47it/s]\n"
     ]
    },
    {
     "name": "stdout",
     "output_type": "stream",
     "text": [
      "[60452  1934   198 50790]\n"
     ]
    },
    {
     "name": "stderr",
     "output_type": "stream",
     "text": [
      "[14-02-2024 12-50-24] Epoch 029 Acc: 0.9874 Loss: 0.03142128: 100%|██████████| 99/99 [00:02<00:00, 42.55it/s]\n",
      "[14-02-2024 12-50-34] Epoch 029 Val. Acc: 0.9847 Val. Loss: 0.05490832: 100%|██████████| 886/886 [00:10<00:00, 85.58it/s]\n"
     ]
    },
    {
     "name": "stdout",
     "output_type": "stream",
     "text": [
      "[60302  1381   348 51343]\n"
     ]
    },
    {
     "name": "stderr",
     "output_type": "stream",
     "text": [
      "[14-02-2024 12-50-41] Epoch 030 Acc: 0.9871 Loss: 0.02995562: 100%|██████████| 99/99 [00:05<00:00, 16.65it/s]\n",
      "[14-02-2024 12-50-52] Epoch 030 Val. Acc: 0.9832 Val. Loss: 0.05320598: 100%|██████████| 886/886 [00:10<00:00, 84.10it/s]\n"
     ]
    },
    {
     "name": "stdout",
     "output_type": "stream",
     "text": [
      "[59811  1063   839 51661]\n"
     ]
    },
    {
     "name": "stderr",
     "output_type": "stream",
     "text": [
      "[14-02-2024 12-50-55] Epoch 031 Acc: 0.9875 Loss: 0.02759184: 100%|██████████| 99/99 [00:02<00:00, 38.65it/s]\n",
      "[14-02-2024 12-51-16] Epoch 031 Val. Acc: 0.9838 Val. Loss: 0.05000372: 100%|██████████| 886/886 [00:20<00:00, 43.77it/s]\n"
     ]
    },
    {
     "name": "stdout",
     "output_type": "stream",
     "text": [
      "[60321  1512   329 51212]\n"
     ]
    },
    {
     "name": "stderr",
     "output_type": "stream",
     "text": [
      "[14-02-2024 12-51-21] Epoch 032 Acc: 0.9885 Loss: 0.02969000: 100%|██████████| 99/99 [00:04<00:00, 24.09it/s]\n",
      "[14-02-2024 12-51-35] Epoch 032 Val. Acc: 0.9824 Val. Loss: 0.06080081: 100%|██████████| 886/886 [00:14<00:00, 61.74it/s]\n"
     ]
    },
    {
     "name": "stdout",
     "output_type": "stream",
     "text": [
      "[59443   788  1207 51936]\n"
     ]
    },
    {
     "name": "stderr",
     "output_type": "stream",
     "text": [
      "[14-02-2024 12-51-39] Epoch 033 Acc: 0.9871 Loss: 0.03033732: 100%|██████████| 99/99 [00:03<00:00, 31.61it/s]\n",
      "[14-02-2024 12-52-01] Epoch 033 Val. Acc: 0.9758 Val. Loss: 0.07104846: 100%|██████████| 886/886 [00:21<00:00, 41.55it/s]\n"
     ]
    },
    {
     "name": "stdout",
     "output_type": "stream",
     "text": [
      "[60257  2349   393 50375]\n"
     ]
    },
    {
     "name": "stderr",
     "output_type": "stream",
     "text": [
      "[14-02-2024 12-52-04] Epoch 034 Acc: 0.9867 Loss: 0.03593853: 100%|██████████| 99/99 [00:02<00:00, 42.30it/s]\n",
      "[14-02-2024 12-52-29] Epoch 034 Val. Acc: 0.9848 Val. Loss: 0.05021626: 100%|██████████| 886/886 [00:22<00:00, 38.63it/s]\n"
     ]
    },
    {
     "name": "stdout",
     "output_type": "stream",
     "text": [
      "[59767   835   883 51889]\n"
     ]
    },
    {
     "name": "stderr",
     "output_type": "stream",
     "text": [
      "[14-02-2024 12-52-32] Epoch 035 Acc: 0.9888 Loss: 0.02760140: 100%|██████████| 99/99 [00:02<00:00, 39.02it/s]\n",
      "[14-02-2024 12-52-51] Epoch 035 Val. Acc: 0.9852 Val. Loss: 0.05803807: 100%|██████████| 886/886 [00:17<00:00, 49.64it/s]\n"
     ]
    },
    {
     "name": "stdout",
     "output_type": "stream",
     "text": [
      "[60128  1152   522 51572]\n"
     ]
    },
    {
     "name": "stderr",
     "output_type": "stream",
     "text": [
      "[14-02-2024 12-52-58] Epoch 036 Acc: 0.9877 Loss: 0.02871438: 100%|██████████| 99/99 [00:04<00:00, 20.41it/s]\n",
      "[14-02-2024 12-53-24] Epoch 036 Val. Acc: 0.9850 Val. Loss: 0.05431788: 100%|██████████| 886/886 [00:25<00:00, 34.30it/s]\n"
     ]
    },
    {
     "name": "stdout",
     "output_type": "stream",
     "text": [
      "[59709   758   941 51966]\n"
     ]
    },
    {
     "name": "stderr",
     "output_type": "stream",
     "text": [
      "[14-02-2024 12-53-30] Epoch 037 Acc: 0.9894 Loss: 0.02828553: 100%|██████████| 99/99 [00:02<00:00, 42.33it/s]\n",
      "[14-02-2024 12-53-50] Epoch 037 Val. Acc: 0.9877 Val. Loss: 0.05470961: 100%|██████████| 886/886 [00:19<00:00, 46.12it/s]\n"
     ]
    },
    {
     "name": "stdout",
     "output_type": "stream",
     "text": [
      "[60126   866   524 51858]\n"
     ]
    },
    {
     "name": "stderr",
     "output_type": "stream",
     "text": [
      "[14-02-2024 12-53-53] Epoch 038 Acc: 0.9874 Loss: 0.03227566: 100%|██████████| 99/99 [00:02<00:00, 42.77it/s]\n",
      "[14-02-2024 12-54-13] Epoch 038 Val. Acc: 0.9823 Val. Loss: 0.04911500: 100%|██████████| 886/886 [00:19<00:00, 45.07it/s]\n"
     ]
    },
    {
     "name": "stdout",
     "output_type": "stream",
     "text": [
      "[60099  1459   551 51265]\n"
     ]
    },
    {
     "name": "stderr",
     "output_type": "stream",
     "text": [
      "[14-02-2024 12-54-25] Epoch 039 Acc: 0.9863 Loss: 0.03315103: 100%|██████████| 99/99 [00:12<00:00,  8.17it/s]\n",
      "[14-02-2024 12-54-45] Epoch 039 Val. Acc: 0.9876 Val. Loss: 0.05457528: 100%|██████████| 886/886 [00:19<00:00, 46.07it/s]\n"
     ]
    },
    {
     "name": "stdout",
     "output_type": "stream",
     "text": [
      "[59822   576   828 52148]\n"
     ]
    },
    {
     "name": "stderr",
     "output_type": "stream",
     "text": [
      "[14-02-2024 12-54-49] Epoch 040 Acc: 0.9903 Loss: 0.02585524: 100%|██████████| 99/99 [00:02<00:00, 42.55it/s]\n",
      "[14-02-2024 12-54-59] Epoch 040 Val. Acc: 0.9874 Val. Loss: 0.05788161: 100%|██████████| 886/886 [00:09<00:00, 92.46it/s]\n"
     ]
    },
    {
     "name": "stdout",
     "output_type": "stream",
     "text": [
      "[59855   632   795 52092]\n"
     ]
    },
    {
     "name": "stderr",
     "output_type": "stream",
     "text": [
      "[14-02-2024 12-55-02] Epoch 041 Acc: 0.9890 Loss: 0.02823573: 100%|██████████| 99/99 [00:02<00:00, 43.73it/s]\n",
      "[14-02-2024 12-55-12] Epoch 041 Val. Acc: 0.9874 Val. Loss: 0.05136324: 100%|██████████| 886/886 [00:09<00:00, 90.99it/s]\n"
     ]
    },
    {
     "name": "stdout",
     "output_type": "stream",
     "text": [
      "[59940   718   710 52006]\n"
     ]
    },
    {
     "name": "stderr",
     "output_type": "stream",
     "text": [
      "[14-02-2024 12-55-15] Epoch 042 Acc: 0.9883 Loss: 0.02794299: 100%|██████████| 99/99 [00:02<00:00, 42.42it/s]\n",
      "[14-02-2024 12-55-25] Epoch 042 Val. Acc: 0.9868 Val. Loss: 0.04866949: 100%|██████████| 886/886 [00:09<00:00, 92.35it/s]\n"
     ]
    },
    {
     "name": "stdout",
     "output_type": "stream",
     "text": [
      "[59996   848   654 51876]\n"
     ]
    },
    {
     "name": "stderr",
     "output_type": "stream",
     "text": [
      "[14-02-2024 12-55-28] Epoch 043 Acc: 0.9897 Loss: 0.02809082: 100%|██████████| 99/99 [00:02<00:00, 43.35it/s]\n",
      "[14-02-2024 12-55-39] Epoch 043 Val. Acc: 0.9848 Val. Loss: 0.05108911: 100%|██████████| 886/886 [00:10<00:00, 84.34it/s]\n"
     ]
    },
    {
     "name": "stdout",
     "output_type": "stream",
     "text": [
      "[60103  1179   547 51545]\n"
     ]
    },
    {
     "name": "stderr",
     "output_type": "stream",
     "text": [
      "[14-02-2024 12-55-42] Epoch 044 Acc: 0.9890 Loss: 0.02532312: 100%|██████████| 99/99 [00:02<00:00, 41.17it/s]\n",
      "[14-02-2024 12-55-54] Epoch 044 Val. Acc: 0.9860 Val. Loss: 0.05382231: 100%|██████████| 886/886 [00:11<00:00, 75.46it/s]\n"
     ]
    },
    {
     "name": "stdout",
     "output_type": "stream",
     "text": [
      "[59737   674   913 52050]\n"
     ]
    },
    {
     "name": "stderr",
     "output_type": "stream",
     "text": [
      "[14-02-2024 12-55-57] Epoch 045 Acc: 0.9894 Loss: 0.02472631: 100%|██████████| 99/99 [00:02<00:00, 43.88it/s]\n",
      "[14-02-2024 12-56-08] Epoch 045 Val. Acc: 0.9857 Val. Loss: 0.05425047: 100%|██████████| 886/886 [00:10<00:00, 86.48it/s]\n"
     ]
    },
    {
     "name": "stdout",
     "output_type": "stream",
     "text": [
      "[60053  1024   597 51700]\n"
     ]
    },
    {
     "name": "stderr",
     "output_type": "stream",
     "text": [
      "[14-02-2024 12-56-11] Epoch 046 Acc: 0.9889 Loss: 0.02497313: 100%|██████████| 99/99 [00:02<00:00, 41.43it/s]\n",
      "[14-02-2024 12-56-23] Epoch 046 Val. Acc: 0.9877 Val. Loss: 0.05491671: 100%|██████████| 886/886 [00:12<00:00, 72.26it/s]\n"
     ]
    },
    {
     "name": "stdout",
     "output_type": "stream",
     "text": [
      "[59839   589   811 52135]\n"
     ]
    },
    {
     "name": "stderr",
     "output_type": "stream",
     "text": [
      "[14-02-2024 12-56-26] Epoch 047 Acc: 0.9901 Loss: 0.02719716: 100%|██████████| 99/99 [00:02<00:00, 42.83it/s]\n",
      "[14-02-2024 12-56-41] Epoch 047 Val. Acc: 0.9869 Val. Loss: 0.04853919: 100%|██████████| 886/886 [00:14<00:00, 61.74it/s]\n"
     ]
    },
    {
     "name": "stdout",
     "output_type": "stream",
     "text": [
      "[59916   749   734 51975]\n"
     ]
    },
    {
     "name": "stderr",
     "output_type": "stream",
     "text": [
      "[14-02-2024 12-56-44] Epoch 048 Acc: 0.9889 Loss: 0.02868541: 100%|██████████| 99/99 [00:02<00:00, 43.53it/s]\n",
      "[14-02-2024 12-56-56] Epoch 048 Val. Acc: 0.9870 Val. Loss: 0.04407849: 100%|██████████| 886/886 [00:11<00:00, 79.91it/s]\n"
     ]
    },
    {
     "name": "stdout",
     "output_type": "stream",
     "text": [
      "[60224  1048   426 51676]\n"
     ]
    },
    {
     "name": "stderr",
     "output_type": "stream",
     "text": [
      "[14-02-2024 12-56-59] Epoch 049 Acc: 0.9875 Loss: 0.02804971: 100%|██████████| 99/99 [00:02<00:00, 41.84it/s]\n",
      "[14-02-2024 12-57-10] Epoch 049 Val. Acc: 0.9742 Val. Loss: 0.05804806: 100%|██████████| 886/886 [00:10<00:00, 81.08it/s]\n"
     ]
    },
    {
     "name": "stdout",
     "output_type": "stream",
     "text": [
      "[60463  2738   187 49986]\n"
     ]
    },
    {
     "name": "stderr",
     "output_type": "stream",
     "text": [
      "[14-02-2024 12-57-13] Epoch 050 Acc: 0.9888 Loss: 0.02753718: 100%|██████████| 99/99 [00:02<00:00, 43.23it/s]\n",
      "[14-02-2024 12-57-25] Epoch 050 Val. Acc: 0.9838 Val. Loss: 0.05364231: 100%|██████████| 886/886 [00:12<00:00, 73.61it/s]\n"
     ]
    },
    {
     "name": "stdout",
     "output_type": "stream",
     "text": [
      "[60087  1273   563 51451]\n"
     ]
    },
    {
     "name": "stderr",
     "output_type": "stream",
     "text": [
      "[14-02-2024 12-57-28] Epoch 051 Acc: 0.9901 Loss: 0.02477188: 100%|██████████| 99/99 [00:02<00:00, 43.38it/s]\n",
      "[14-02-2024 12-57-39] Epoch 051 Val. Acc: 0.9860 Val. Loss: 0.05833167: 100%|██████████| 886/886 [00:09<00:00, 90.01it/s]\n"
     ]
    },
    {
     "name": "stdout",
     "output_type": "stream",
     "text": [
      "[59901   835   749 51889]\n"
     ]
    },
    {
     "name": "stderr",
     "output_type": "stream",
     "text": [
      "[14-02-2024 12-57-42] Epoch 052 Acc: 0.9894 Loss: 0.02859896: 100%|██████████| 99/99 [00:02<00:00, 41.40it/s]\n",
      "[14-02-2024 12-57-52] Epoch 052 Val. Acc: 0.9879 Val. Loss: 0.05843376: 100%|██████████| 886/886 [00:10<00:00, 86.70it/s]\n"
     ]
    },
    {
     "name": "stdout",
     "output_type": "stream",
     "text": [
      "[60004   722   646 52002]\n"
     ]
    },
    {
     "name": "stderr",
     "output_type": "stream",
     "text": [
      "[14-02-2024 12-57-56] Epoch 053 Acc: 0.9895 Loss: 0.02827984: 100%|██████████| 99/99 [00:02<00:00, 38.54it/s]\n",
      "[14-02-2024 12-58-10] Epoch 053 Val. Acc: 0.9866 Val. Loss: 0.05762071: 100%|██████████| 886/886 [00:14<00:00, 63.21it/s]\n"
     ]
    },
    {
     "name": "stdout",
     "output_type": "stream",
     "text": [
      "[60210  1083   440 51641]\n"
     ]
    },
    {
     "name": "stderr",
     "output_type": "stream",
     "text": [
      "[14-02-2024 12-58-13] Epoch 054 Acc: 0.9886 Loss: 0.02540716: 100%|██████████| 99/99 [00:02<00:00, 41.79it/s]\n",
      "[14-02-2024 12-58-26] Epoch 054 Val. Acc: 0.9854 Val. Loss: 0.06350578: 100%|██████████| 886/886 [00:12<00:00, 70.85it/s]\n"
     ]
    },
    {
     "name": "stdout",
     "output_type": "stream",
     "text": [
      "[60387  1397   263 51327]\n"
     ]
    },
    {
     "name": "stderr",
     "output_type": "stream",
     "text": [
      "[14-02-2024 12-58-29] Epoch 055 Acc: 0.9910 Loss: 0.02242983: 100%|██████████| 99/99 [00:02<00:00, 42.96it/s]\n",
      "[14-02-2024 12-58-40] Epoch 055 Val. Acc: 0.9883 Val. Loss: 0.06742885: 100%|██████████| 886/886 [00:10<00:00, 82.42it/s]\n"
     ]
    },
    {
     "name": "stdout",
     "output_type": "stream",
     "text": [
      "[59900   579   750 52145]\n"
     ]
    },
    {
     "name": "stderr",
     "output_type": "stream",
     "text": [
      "[14-02-2024 12-58-43] Epoch 056 Acc: 0.9893 Loss: 0.02372968: 100%|██████████| 99/99 [00:02<00:00, 42.98it/s]\n",
      "[14-02-2024 12-58-56] Epoch 056 Val. Acc: 0.9862 Val. Loss: 0.06426784: 100%|██████████| 886/886 [00:12<00:00, 69.01it/s]\n"
     ]
    },
    {
     "name": "stdout",
     "output_type": "stream",
     "text": [
      "[60257  1166   393 51558]\n"
     ]
    },
    {
     "name": "stderr",
     "output_type": "stream",
     "text": [
      "[14-02-2024 12-59-00] Epoch 057 Acc: 0.9899 Loss: 0.02533703: 100%|██████████| 99/99 [00:02<00:00, 38.29it/s]\n",
      "[14-02-2024 12-59-13] Epoch 057 Val. Acc: 0.9847 Val. Loss: 0.08444503: 100%|██████████| 886/886 [00:12<00:00, 68.89it/s]\n"
     ]
    },
    {
     "name": "stdout",
     "output_type": "stream",
     "text": [
      "[59930  1018   720 51706]\n"
     ]
    },
    {
     "name": "stderr",
     "output_type": "stream",
     "text": [
      "[14-02-2024 12-59-17] Epoch 058 Acc: 0.9895 Loss: 0.02981884: 100%|██████████| 99/99 [00:02<00:00, 37.76it/s]\n",
      "[14-02-2024 12-59-30] Epoch 058 Val. Acc: 0.9851 Val. Loss: 0.05297227: 100%|██████████| 886/886 [00:12<00:00, 73.26it/s]\n"
     ]
    },
    {
     "name": "stdout",
     "output_type": "stream",
     "text": [
      "[60131  1170   519 51554]\n"
     ]
    },
    {
     "name": "stderr",
     "output_type": "stream",
     "text": [
      "[14-02-2024 12-59-33] Epoch 059 Acc: 0.9893 Loss: 0.02750894: 100%|██████████| 99/99 [00:02<00:00, 43.60it/s]\n",
      "[14-02-2024 12-59-43] Epoch 059 Val. Acc: 0.9866 Val. Loss: 0.05342511: 100%|██████████| 886/886 [00:10<00:00, 85.20it/s]\n"
     ]
    },
    {
     "name": "stdout",
     "output_type": "stream",
     "text": [
      "[59954   819   696 51905]\n"
     ]
    },
    {
     "name": "stderr",
     "output_type": "stream",
     "text": [
      "[14-02-2024 12-59-47] Epoch 060 Acc: 0.9915 Loss: 0.02306917: 100%|██████████| 99/99 [00:02<00:00, 39.94it/s]\n",
      "[14-02-2024 12-59-59] Epoch 060 Val. Acc: 0.9881 Val. Loss: 0.05506594: 100%|██████████| 886/886 [00:11<00:00, 74.68it/s]\n"
     ]
    },
    {
     "name": "stdout",
     "output_type": "stream",
     "text": [
      "[60217   917   433 51807]\n"
     ]
    },
    {
     "name": "stderr",
     "output_type": "stream",
     "text": [
      "[14-02-2024 13-00-02] Epoch 061 Acc: 0.9892 Loss: 0.02515949: 100%|██████████| 99/99 [00:02<00:00, 40.81it/s]\n",
      "[14-02-2024 13-00-15] Epoch 061 Val. Acc: 0.9864 Val. Loss: 0.05689960: 100%|██████████| 886/886 [00:12<00:00, 71.45it/s]\n"
     ]
    },
    {
     "name": "stdout",
     "output_type": "stream",
     "text": [
      "[60169  1062   481 51662]\n"
     ]
    },
    {
     "name": "stderr",
     "output_type": "stream",
     "text": [
      "[14-02-2024 13-00-18] Epoch 062 Acc: 0.9913 Loss: 0.02072225: 100%|██████████| 99/99 [00:02<00:00, 37.70it/s]\n",
      "[14-02-2024 13-00-33] Epoch 062 Val. Acc: 0.9871 Val. Loss: 0.07179550: 100%|██████████| 886/886 [00:14<00:00, 62.79it/s]\n"
     ]
    },
    {
     "name": "stdout",
     "output_type": "stream",
     "text": [
      "[59747   557   903 52167]\n"
     ]
    },
    {
     "name": "stderr",
     "output_type": "stream",
     "text": [
      "[14-02-2024 13-00-37] Epoch 063 Acc: 0.9915 Loss: 0.02490140: 100%|██████████| 99/99 [00:02<00:00, 36.22it/s]\n",
      "[14-02-2024 13-00-51] Epoch 063 Val. Acc: 0.9871 Val. Loss: 0.06370556: 100%|██████████| 886/886 [00:14<00:00, 62.30it/s]\n"
     ]
    },
    {
     "name": "stdout",
     "output_type": "stream",
     "text": [
      "[60305  1118   345 51606]\n"
     ]
    },
    {
     "name": "stderr",
     "output_type": "stream",
     "text": [
      "[14-02-2024 13-00-55] Epoch 064 Acc: 0.9902 Loss: 0.02349773: 100%|██████████| 99/99 [00:02<00:00, 41.66it/s]\n",
      "[14-02-2024 13-01-09] Epoch 064 Val. Acc: 0.9841 Val. Loss: 0.05755386: 100%|██████████| 886/886 [00:13<00:00, 67.76it/s]\n"
     ]
    },
    {
     "name": "stdout",
     "output_type": "stream",
     "text": [
      "[59699   851   951 51873]\n"
     ]
    },
    {
     "name": "stderr",
     "output_type": "stream",
     "text": [
      "[14-02-2024 13-01-12] Epoch 065 Acc: 0.9909 Loss: 0.02174004: 100%|██████████| 99/99 [00:02<00:00, 38.91it/s]\n",
      "[14-02-2024 13-01-26] Epoch 065 Val. Acc: 0.9871 Val. Loss: 0.06796425: 100%|██████████| 886/886 [00:13<00:00, 64.83it/s]\n"
     ]
    },
    {
     "name": "stdout",
     "output_type": "stream",
     "text": [
      "[60178   992   472 51732]\n"
     ]
    },
    {
     "name": "stderr",
     "output_type": "stream",
     "text": [
      "[14-02-2024 13-01-30] Epoch 066 Acc: 0.9909 Loss: 0.02304436: 100%|██████████| 99/99 [00:02<00:00, 36.44it/s]\n",
      "[14-02-2024 13-01-45] Epoch 066 Val. Acc: 0.9892 Val. Loss: 0.06381657: 100%|██████████| 886/886 [00:13<00:00, 63.71it/s]\n"
     ]
    },
    {
     "name": "stdout",
     "output_type": "stream",
     "text": [
      "[59946   516   704 52208]\n"
     ]
    },
    {
     "name": "stderr",
     "output_type": "stream",
     "text": [
      "[14-02-2024 13-01-48] Epoch 067 Acc: 0.9915 Loss: 0.02358967: 100%|██████████| 99/99 [00:02<00:00, 41.84it/s]\n",
      "[14-02-2024 13-02-01] Epoch 067 Val. Acc: 0.9875 Val. Loss: 0.07517418: 100%|██████████| 886/886 [00:12<00:00, 69.30it/s]\n"
     ]
    },
    {
     "name": "stdout",
     "output_type": "stream",
     "text": [
      "[59902   669   748 52055]\n"
     ]
    },
    {
     "name": "stderr",
     "output_type": "stream",
     "text": [
      "[14-02-2024 13-02-05] Epoch 068 Acc: 0.9901 Loss: 0.02612291: 100%|██████████| 99/99 [00:02<00:00, 39.49it/s]\n",
      "[14-02-2024 13-02-16] Epoch 068 Val. Acc: 0.9862 Val. Loss: 0.06833566: 100%|██████████| 886/886 [00:10<00:00, 83.96it/s]\n"
     ]
    },
    {
     "name": "stdout",
     "output_type": "stream",
     "text": [
      "[60134  1052   516 51672]\n"
     ]
    },
    {
     "name": "stderr",
     "output_type": "stream",
     "text": [
      "[14-02-2024 13-02-19] Epoch 069 Acc: 0.9898 Loss: 0.02636232: 100%|██████████| 99/99 [00:02<00:00, 43.34it/s]\n",
      "[14-02-2024 13-02-29] Epoch 069 Val. Acc: 0.9866 Val. Loss: 0.08701054: 100%|██████████| 886/886 [00:09<00:00, 91.36it/s]\n"
     ]
    },
    {
     "name": "stdout",
     "output_type": "stream",
     "text": [
      "[59599   464  1051 52260]\n"
     ]
    },
    {
     "name": "stderr",
     "output_type": "stream",
     "text": [
      "[14-02-2024 13-02-32] Epoch 070 Acc: 0.9888 Loss: 0.02498064: 100%|██████████| 99/99 [00:02<00:00, 40.49it/s]\n",
      "[14-02-2024 13-02-43] Epoch 070 Val. Acc: 0.9865 Val. Loss: 0.06555689: 100%|██████████| 886/886 [00:11<00:00, 79.46it/s]\n"
     ]
    },
    {
     "name": "stdout",
     "output_type": "stream",
     "text": [
      "[60018   899   632 51825]\n"
     ]
    },
    {
     "name": "stderr",
     "output_type": "stream",
     "text": [
      "[14-02-2024 13-02-47] Epoch 071 Acc: 0.9909 Loss: 0.02267264: 100%|██████████| 99/99 [00:02<00:00, 42.20it/s]\n",
      "[14-02-2024 13-02-57] Epoch 071 Val. Acc: 0.9849 Val. Loss: 0.11247646: 100%|██████████| 886/886 [00:09<00:00, 90.50it/s]\n"
     ]
    },
    {
     "name": "stdout",
     "output_type": "stream",
     "text": [
      "[60029  1094   621 51630]\n"
     ]
    },
    {
     "name": "stderr",
     "output_type": "stream",
     "text": [
      "[14-02-2024 13-03-01] Epoch 072 Acc: 0.9907 Loss: 0.02489551: 100%|██████████| 99/99 [00:02<00:00, 40.23it/s]\n",
      "[14-02-2024 13-03-13] Epoch 072 Val. Acc: 0.9870 Val. Loss: 0.07842531: 100%|██████████| 886/886 [00:12<00:00, 72.28it/s]\n"
     ]
    },
    {
     "name": "stdout",
     "output_type": "stream",
     "text": [
      "[59793   620   857 52104]\n"
     ]
    },
    {
     "name": "stderr",
     "output_type": "stream",
     "text": [
      "[14-02-2024 13-03-17] Epoch 073 Acc: 0.9909 Loss: 0.02589663: 100%|██████████| 99/99 [00:02<00:00, 37.96it/s]\n",
      "[14-02-2024 13-03-31] Epoch 073 Val. Acc: 0.9795 Val. Loss: 0.08894487: 100%|██████████| 886/886 [00:13<00:00, 63.70it/s]\n"
     ]
    },
    {
     "name": "stdout",
     "output_type": "stream",
     "text": [
      "[58687   362  1963 52362]\n"
     ]
    },
    {
     "name": "stderr",
     "output_type": "stream",
     "text": [
      "[14-02-2024 13-03-35] Epoch 074 Acc: 0.9886 Loss: 0.03439168: 100%|██████████| 99/99 [00:02<00:00, 41.72it/s]\n",
      "[14-02-2024 13-03-48] Epoch 074 Val. Acc: 0.9869 Val. Loss: 0.07019333: 100%|██████████| 886/886 [00:13<00:00, 66.60it/s]\n"
     ]
    },
    {
     "name": "stdout",
     "output_type": "stream",
     "text": [
      "[60020   851   630 51873]\n"
     ]
    },
    {
     "name": "stderr",
     "output_type": "stream",
     "text": [
      "[14-02-2024 13-03-52] Epoch 075 Acc: 0.9910 Loss: 0.02693757: 100%|██████████| 99/99 [00:02<00:00, 41.18it/s]\n",
      "[14-02-2024 13-04-04] Epoch 075 Val. Acc: 0.9881 Val. Loss: 0.04901256: 100%|██████████| 886/886 [00:12<00:00, 72.71it/s]\n"
     ]
    },
    {
     "name": "stdout",
     "output_type": "stream",
     "text": [
      "[60005   709   645 52015]\n"
     ]
    },
    {
     "name": "stderr",
     "output_type": "stream",
     "text": [
      "[14-02-2024 13-04-08] Epoch 076 Acc: 0.9925 Loss: 0.02005895: 100%|██████████| 99/99 [00:02<00:00, 41.62it/s]\n",
      "[14-02-2024 13-04-22] Epoch 076 Val. Acc: 0.9866 Val. Loss: 0.09835522: 100%|██████████| 886/886 [00:13<00:00, 64.53it/s]\n"
     ]
    },
    {
     "name": "stdout",
     "output_type": "stream",
     "text": [
      "[59964   832   686 51892]\n"
     ]
    },
    {
     "name": "stderr",
     "output_type": "stream",
     "text": [
      "[14-02-2024 13-04-25] Epoch 077 Acc: 0.9915 Loss: 0.02012581: 100%|██████████| 99/99 [00:02<00:00, 42.02it/s]\n",
      "[14-02-2024 13-04-35] Epoch 077 Val. Acc: 0.9861 Val. Loss: 0.09618144: 100%|██████████| 886/886 [00:09<00:00, 91.24it/s]\n"
     ]
    },
    {
     "name": "stdout",
     "output_type": "stream",
     "text": [
      "[59621   543  1029 52181]\n"
     ]
    },
    {
     "name": "stderr",
     "output_type": "stream",
     "text": [
      "[14-02-2024 13-04-38] Epoch 078 Acc: 0.9902 Loss: 0.02401671: 100%|██████████| 99/99 [00:02<00:00, 42.98it/s]\n",
      "[14-02-2024 13-04-48] Epoch 078 Val. Acc: 0.9880 Val. Loss: 0.08240471: 100%|██████████| 886/886 [00:09<00:00, 92.30it/s]\n"
     ]
    },
    {
     "name": "stdout",
     "output_type": "stream",
     "text": [
      "[60067   781   583 51943]\n"
     ]
    },
    {
     "name": "stderr",
     "output_type": "stream",
     "text": [
      "[14-02-2024 13-04-51] Epoch 079 Acc: 0.9922 Loss: 0.02081933: 100%|██████████| 99/99 [00:02<00:00, 43.69it/s]\n",
      "[14-02-2024 13-05-01] Epoch 079 Val. Acc: 0.9845 Val. Loss: 0.07893917: 100%|██████████| 886/886 [00:09<00:00, 91.94it/s]\n"
     ]
    },
    {
     "name": "stdout",
     "output_type": "stream",
     "text": [
      "[59705   814   945 51910]\n"
     ]
    },
    {
     "name": "stderr",
     "output_type": "stream",
     "text": [
      "[14-02-2024 13-05-04] Epoch 080 Acc: 0.9900 Loss: 0.02612289: 100%|██████████| 99/99 [00:02<00:00, 42.90it/s]\n",
      "[14-02-2024 13-05-14] Epoch 080 Val. Acc: 0.9870 Val. Loss: 0.07065320: 100%|██████████| 886/886 [00:09<00:00, 91.42it/s]\n"
     ]
    },
    {
     "name": "stdout",
     "output_type": "stream",
     "text": [
      "[59714   542   936 52182]\n"
     ]
    },
    {
     "name": "stderr",
     "output_type": "stream",
     "text": [
      "[14-02-2024 13-05-17] Epoch 081 Acc: 0.9916 Loss: 0.02068038: 100%|██████████| 99/99 [00:02<00:00, 43.97it/s]\n",
      "[14-02-2024 13-05-28] Epoch 081 Val. Acc: 0.9857 Val. Loss: 0.10540763: 100%|██████████| 886/886 [00:09<00:00, 90.26it/s]\n"
     ]
    },
    {
     "name": "stdout",
     "output_type": "stream",
     "text": [
      "[59704   675   946 52049]\n"
     ]
    },
    {
     "name": "stderr",
     "output_type": "stream",
     "text": [
      "[14-02-2024 13-05-31] Epoch 082 Acc: 0.9921 Loss: 0.01984166: 100%|██████████| 99/99 [00:02<00:00, 44.02it/s]\n",
      "[14-02-2024 13-05-41] Epoch 082 Val. Acc: 0.9871 Val. Loss: 0.07251889: 100%|██████████| 886/886 [00:09<00:00, 91.23it/s]\n"
     ]
    },
    {
     "name": "stdout",
     "output_type": "stream",
     "text": [
      "[59823   630   827 52094]\n"
     ]
    },
    {
     "name": "stderr",
     "output_type": "stream",
     "text": [
      "[14-02-2024 13-05-44] Epoch 083 Acc: 0.9912 Loss: 0.02124488: 100%|██████████| 99/99 [00:02<00:00, 41.31it/s]\n",
      "[14-02-2024 13-05-54] Epoch 083 Val. Acc: 0.9867 Val. Loss: 0.07067210: 100%|██████████| 886/886 [00:09<00:00, 91.93it/s]\n"
     ]
    },
    {
     "name": "stdout",
     "output_type": "stream",
     "text": [
      "[60010   870   640 51854]\n"
     ]
    },
    {
     "name": "stderr",
     "output_type": "stream",
     "text": [
      "[14-02-2024 13-05-57] Epoch 084 Acc: 0.9911 Loss: 0.01993331: 100%|██████████| 99/99 [00:02<00:00, 42.72it/s]\n",
      "[14-02-2024 13-06-07] Epoch 084 Val. Acc: 0.9858 Val. Loss: 0.07552980: 100%|██████████| 886/886 [00:09<00:00, 90.73it/s]\n"
     ]
    },
    {
     "name": "stdout",
     "output_type": "stream",
     "text": [
      "[59870   832   780 51892]\n"
     ]
    },
    {
     "name": "stderr",
     "output_type": "stream",
     "text": [
      "[14-02-2024 13-06-10] Epoch 085 Acc: 0.9917 Loss: 0.01851889: 100%|██████████| 99/99 [00:02<00:00, 43.64it/s]\n",
      "[14-02-2024 13-06-20] Epoch 085 Val. Acc: 0.9867 Val. Loss: 0.10296771: 100%|██████████| 886/886 [00:09<00:00, 91.56it/s]\n"
     ]
    },
    {
     "name": "stdout",
     "output_type": "stream",
     "text": [
      "[59594   449  1056 52275]\n"
     ]
    },
    {
     "name": "stderr",
     "output_type": "stream",
     "text": [
      "[14-02-2024 13-06-23] Epoch 086 Acc: 0.9906 Loss: 0.02360580: 100%|██████████| 99/99 [00:02<00:00, 43.52it/s]\n",
      "[14-02-2024 13-06-33] Epoch 086 Val. Acc: 0.9876 Val. Loss: 0.06886456: 100%|██████████| 886/886 [00:09<00:00, 91.68it/s]\n"
     ]
    },
    {
     "name": "stdout",
     "output_type": "stream",
     "text": [
      "[59752   512   898 52212]\n"
     ]
    },
    {
     "name": "stderr",
     "output_type": "stream",
     "text": [
      "[14-02-2024 13-06-36] Epoch 087 Acc: 0.9911 Loss: 0.02113070: 100%|██████████| 99/99 [00:02<00:00, 42.81it/s]\n",
      "[14-02-2024 13-06-46] Epoch 087 Val. Acc: 0.9868 Val. Loss: 0.07620576: 100%|██████████| 886/886 [00:09<00:00, 90.62it/s]\n"
     ]
    },
    {
     "name": "stdout",
     "output_type": "stream",
     "text": [
      "[60229  1071   421 51653]\n"
     ]
    },
    {
     "name": "stderr",
     "output_type": "stream",
     "text": [
      "[14-02-2024 13-06-50] Epoch 088 Acc: 0.9911 Loss: 0.01924344: 100%|██████████| 99/99 [00:02<00:00, 43.24it/s]\n",
      "[14-02-2024 13-07-00] Epoch 088 Val. Acc: 0.9872 Val. Loss: 0.09367709: 100%|██████████| 886/886 [00:09<00:00, 90.49it/s]\n"
     ]
    },
    {
     "name": "stdout",
     "output_type": "stream",
     "text": [
      "[59741   537   909 52187]\n"
     ]
    },
    {
     "name": "stderr",
     "output_type": "stream",
     "text": [
      "[14-02-2024 13-07-03] Epoch 089 Acc: 0.9916 Loss: 0.02289468: 100%|██████████| 99/99 [00:02<00:00, 42.55it/s]\n",
      "[14-02-2024 13-07-13] Epoch 089 Val. Acc: 0.9852 Val. Loss: 0.07735850: 100%|██████████| 886/886 [00:09<00:00, 91.63it/s]\n"
     ]
    },
    {
     "name": "stdout",
     "output_type": "stream",
     "text": [
      "[60226  1257   424 51467]\n"
     ]
    },
    {
     "name": "stderr",
     "output_type": "stream",
     "text": [
      "[14-02-2024 13-07-16] Epoch 090 Acc: 0.9913 Loss: 0.02120139: 100%|██████████| 99/99 [00:02<00:00, 42.80it/s]\n",
      "[14-02-2024 13-07-26] Epoch 090 Val. Acc: 0.9869 Val. Loss: 0.06970799: 100%|██████████| 886/886 [00:09<00:00, 91.46it/s]\n"
     ]
    },
    {
     "name": "stdout",
     "output_type": "stream",
     "text": [
      "[60226  1056   424 51668]\n"
     ]
    },
    {
     "name": "stderr",
     "output_type": "stream",
     "text": [
      "[14-02-2024 13-07-29] Epoch 091 Acc: 0.9904 Loss: 0.02188265: 100%|██████████| 99/99 [00:02<00:00, 42.27it/s]\n",
      "[14-02-2024 13-07-39] Epoch 091 Val. Acc: 0.9862 Val. Loss: 0.06907395: 100%|██████████| 886/886 [00:09<00:00, 91.94it/s]\n"
     ]
    },
    {
     "name": "stdout",
     "output_type": "stream",
     "text": [
      "[60324  1234   326 51490]\n"
     ]
    },
    {
     "name": "stderr",
     "output_type": "stream",
     "text": [
      "[14-02-2024 13-07-42] Epoch 092 Acc: 0.9917 Loss: 0.02182421: 100%|██████████| 99/99 [00:02<00:00, 42.50it/s]\n",
      "[14-02-2024 13-07-52] Epoch 092 Val. Acc: 0.9865 Val. Loss: 0.05850682: 100%|██████████| 886/886 [00:09<00:00, 91.10it/s]\n"
     ]
    },
    {
     "name": "stdout",
     "output_type": "stream",
     "text": [
      "[59848   725   802 51999]\n"
     ]
    },
    {
     "name": "stderr",
     "output_type": "stream",
     "text": [
      "[14-02-2024 13-07-55] Epoch 093 Acc: 0.9918 Loss: 0.02141198: 100%|██████████| 99/99 [00:02<00:00, 43.64it/s]\n",
      "[14-02-2024 13-08-05] Epoch 093 Val. Acc: 0.9878 Val. Loss: 0.06508910: 100%|██████████| 886/886 [00:09<00:00, 90.43it/s]\n"
     ]
    },
    {
     "name": "stdout",
     "output_type": "stream",
     "text": [
      "[60011   749   639 51975]\n"
     ]
    },
    {
     "name": "stderr",
     "output_type": "stream",
     "text": [
      "[14-02-2024 13-08-09] Epoch 094 Acc: 0.9916 Loss: 0.02201292: 100%|██████████| 99/99 [00:02<00:00, 42.99it/s]\n",
      "[14-02-2024 13-08-19] Epoch 094 Val. Acc: 0.9875 Val. Loss: 0.06461037: 100%|██████████| 886/886 [00:09<00:00, 91.54it/s]\n"
     ]
    },
    {
     "name": "stdout",
     "output_type": "stream",
     "text": [
      "[60290  1053   360 51671]\n"
     ]
    },
    {
     "name": "stderr",
     "output_type": "stream",
     "text": [
      "[14-02-2024 13-08-22] Epoch 095 Acc: 0.9930 Loss: 0.01884532: 100%|██████████| 99/99 [00:02<00:00, 43.23it/s]\n",
      "[14-02-2024 13-08-32] Epoch 095 Val. Acc: 0.9886 Val. Loss: 0.07869708: 100%|██████████| 886/886 [00:09<00:00, 91.19it/s]\n"
     ]
    },
    {
     "name": "stdout",
     "output_type": "stream",
     "text": [
      "[59938   577   712 52147]\n"
     ]
    },
    {
     "name": "stderr",
     "output_type": "stream",
     "text": [
      "[14-02-2024 13-08-35] Epoch 096 Acc: 0.9921 Loss: 0.02006258: 100%|██████████| 99/99 [00:02<00:00, 43.13it/s]\n",
      "[14-02-2024 13-08-45] Epoch 096 Val. Acc: 0.9886 Val. Loss: 0.08305942: 100%|██████████| 886/886 [00:09<00:00, 90.72it/s]\n"
     ]
    },
    {
     "name": "stdout",
     "output_type": "stream",
     "text": [
      "[60340   980   310 51744]\n"
     ]
    },
    {
     "name": "stderr",
     "output_type": "stream",
     "text": [
      "[14-02-2024 13-08-48] Epoch 097 Acc: 0.9929 Loss: 0.01925636: 100%|██████████| 99/99 [00:02<00:00, 43.08it/s]\n",
      "[14-02-2024 13-08-58] Epoch 097 Val. Acc: 0.9871 Val. Loss: 0.08670704: 100%|██████████| 886/886 [00:09<00:00, 90.56it/s]\n"
     ]
    },
    {
     "name": "stdout",
     "output_type": "stream",
     "text": [
      "[59662   470   988 52254]\n"
     ]
    },
    {
     "name": "stderr",
     "output_type": "stream",
     "text": [
      "[14-02-2024 13-09-02] Epoch 098 Acc: 0.9921 Loss: 0.01927405: 100%|██████████| 99/99 [00:02<00:00, 39.61it/s]\n",
      "[14-02-2024 13-09-12] Epoch 098 Val. Acc: 0.9820 Val. Loss: 0.07877888: 100%|██████████| 886/886 [00:09<00:00, 92.05it/s]\n"
     ]
    },
    {
     "name": "stdout",
     "output_type": "stream",
     "text": [
      "[59043   437  1607 52287]\n"
     ]
    },
    {
     "name": "stderr",
     "output_type": "stream",
     "text": [
      "[14-02-2024 13-09-15] Epoch 099 Acc: 0.9920 Loss: 0.02156592: 100%|██████████| 99/99 [00:02<00:00, 42.14it/s]\n",
      "[14-02-2024 13-09-25] Epoch 099 Val. Acc: 0.9893 Val. Loss: 0.06300329: 100%|██████████| 886/886 [00:09<00:00, 90.00it/s]\n"
     ]
    },
    {
     "name": "stdout",
     "output_type": "stream",
     "text": [
      "[60266   827   384 51897]\n"
     ]
    },
    {
     "name": "stderr",
     "output_type": "stream",
     "text": [
      "[14-02-2024 13-09-28] Epoch 100 Acc: 0.9933 Loss: 0.01906196: 100%|██████████| 99/99 [00:02<00:00, 43.16it/s]\n",
      "[14-02-2024 13-09-38] Epoch 100 Val. Acc: 0.9875 Val. Loss: 0.08187941: 100%|██████████| 886/886 [00:09<00:00, 89.97it/s]\n"
     ]
    },
    {
     "name": "stdout",
     "output_type": "stream",
     "text": [
      "[60210   973   440 51751]\n",
      "Finished experiment!\n"
     ]
    }
   ],
   "source": [
    "n = now()\n",
    "epocs = 100\n",
    "model, metrics = make(\n",
    "    EPOCHS=epocs, \n",
    "    BATCH_SIZE=128, \n",
    "    LEARNING_RATE=1e-3, \n",
    "    csv_path=\"/home/luizp/projects/pibit/src/data/processed/csv/nslClean.csv\", \n",
    "    MODEL=AlexNet(x=128).to(device()), \n",
    "    SEED=1701,\n",
    "    xcol=2\n",
    "    ) \n",
    "register(metrics, f\"/home/luizp/projects/pibit/src/0utput/text/{n}.txt\")\n",
    "torch.save(model.state_dict(), f\"/home/luizp/projects/pibit/src/0utput/models/{n}_alexnet_{epocs}.nnModel\")\n"
   ]
  },
  {
   "cell_type": "code",
   "execution_count": 4,
   "metadata": {},
   "outputs": [
    {
     "data": {
      "image/png": "[encoded data removed]",
      "text/plain": [
       "<Figure size 800x600 with 2 Axes>"
      ]
     },
     "metadata": {},
     "output_type": "display_data"
    }
   ],
   "source": [
    "cm = takeConfusionMatrix(metrics, epocs-1, f\"/home/luizp/projects/pibit/src/0utput/img/confusionMatix/{n}.png\")"
   ]
  },
  {
   "cell_type": "code",
   "execution_count": 5,
   "metadata": {},
   "outputs": [
    {
     "data": {
      "image/png": "[encoded data removed]",
      "text/plain": [
       "<Figure size 800x800 with 1 Axes>"
      ]
     },
     "metadata": {},
     "output_type": "display_data"
    }
   ],
   "source": [
    "takeRocCurve(metrics, epocs-1, f\"/home/luizp/projects/pibit/src/0utput/img/rocCurve/{n}.png\")"
   ]
  },
  {
   "cell_type": "code",
   "execution_count": null,
   "metadata": {},
   "outputs": [],
   "source": []
  }
 ],
 "metadata": {
  "kernelspec": {
   "display_name": "pibit",
   "language": "python",
   "name": "python3"
  },
  "language_info": {
   "codemirror_mode": {
    "name": "ipython",
    "version": 3
   },
   "file_extension": ".py",
   "mimetype": "text/x-python",
   "name": "python",
   "nbconvert_exporter": "python",
   "pygments_lexer": "ipython3",
   "version": "3.11.7"
  }
 },
 "nbformat": 4,
 "nbformat_minor": 2
}
